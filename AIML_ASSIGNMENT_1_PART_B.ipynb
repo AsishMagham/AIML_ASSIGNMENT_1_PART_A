{
  "cells": [
    {
      "cell_type": "markdown",
      "metadata": {
        "id": "9MkmSB7zyCcX"
      },
      "source": [
        "Python Sets and Dictionaries Task"
      ]
    },
    {
      "cell_type": "code",
      "execution_count": 5,
      "metadata": {},
      "outputs": [
        {
          "name": "stdout",
          "output_type": "stream",
          "text": [
            "Set: {1, 3, 5}\n",
            "Set after removing an element: {1, 5}\n",
            "Dictionary: {'name': 'Alice', 'age': 30}\n",
            "Updated Dictionary: {'name': 'Alice', 'age': 30, 'city': 'New York'}\n",
            "Does 'age' exist in the dictionary? True\n",
            "Dictionary after removal: {'age': 30, 'city': 'New York'}\n"
          ]
        }
      ],
      "source": [
        "class DataAnalyzer:\n",
        "    def __init__(self):\n",
        "        self._set = set()  # Initialize empty set\n",
        "        self._dictionary = {}  # Initialize empty dictionary\n",
        "\n",
        "    def add_to_set(self, elements):\n",
        "        \"\"\"Adds elements to the set.\"\"\"\n",
        "        for element in elements:\n",
        "            self._set.add(element)\n",
        "\n",
        "    def remove_from_set(self, element):\n",
        "        \"\"\"Removes an element from the set if it exists.\"\"\"\n",
        "        if element in self._set:\n",
        "            self._set.discard(element)\n",
        "\n",
        "    def get_set(self):\n",
        "        \"\"\"Returns the current state of the set.\"\"\"\n",
        "        return self._set\n",
        "\n",
        "    def create_dictionary(self, keys, values):\n",
        "        \"\"\"Creates a dictionary from keys and values.\"\"\"\n",
        "        if len(keys) == len(values):\n",
        "            self._dictionary = dict(zip(keys, values))\n",
        "        else:\n",
        "            print(\"Error: Key and value lists must have the same length.\")\n",
        "\n",
        "    def update_dictionary(self, key, value):\n",
        "        \"\"\"Adds or updates a key-value pair in the dictionary.\"\"\"\n",
        "        self._dictionary[key] = value\n",
        "\n",
        "    def get_dictionary(self):\n",
        "        \"\"\"Returns the current state of the dictionary.\"\"\"\n",
        "        return self._dictionary\n",
        "\n",
        "    def search_dictionary(self, key):\n",
        "        \"\"\"Checks if a key exists in the dictionary.\"\"\"\n",
        "        return key in self._dictionary\n",
        "\n",
        "    def remove_from_dictionary(self, key):\n",
        "        \"\"\"Removes a key-value pair from the dictionary if the key exists.\"\"\"\n",
        "        if key in self._dictionary:\n",
        "            del self._dictionary[key]\n",
        "\n",
        "# Example Usage\n",
        "analyzer = DataAnalyzer()\n",
        "analyzer.add_to_set([1, 5, 3, 5])  # Adds 1, 5, 3 \n",
        "print(\"Set:\", analyzer.get_set())\n",
        "analyzer.remove_from_set(3)\n",
        "print(\"Set after removing an element:\",analyzer.get_set())\n",
        "\n",
        "analyzer.create_dictionary([\"name\", \"age\"], [\"Alice\", 30])\n",
        "print(\"Dictionary:\", analyzer.get_dictionary())\n",
        "\n",
        "analyzer.update_dictionary(\"city\", \"New York\")\n",
        "print(\"Updated Dictionary:\", analyzer.get_dictionary())\n",
        "\n",
        "print(\"Does 'age' exist in the dictionary?\", analyzer.search_dictionary(\"age\"))\n",
        "\n",
        "analyzer.remove_from_dictionary(\"name\")\n",
        "print(\"Dictionary after removal:\", analyzer.get_dictionary())"
      ]
    }
  ],
  "metadata": {
    "colab": {
      "provenance": [],
      "toc_visible": true
    },
    "kernelspec": {
      "display_name": "Python 3",
      "name": "python3"
    },
    "language_info": {
      "codemirror_mode": {
        "name": "ipython",
        "version": 3
      },
      "file_extension": ".py",
      "mimetype": "text/x-python",
      "name": "python",
      "nbconvert_exporter": "python",
      "pygments_lexer": "ipython3",
      "version": "3.11.3"
    }
  },
  "nbformat": 4,
  "nbformat_minor": 0
}
