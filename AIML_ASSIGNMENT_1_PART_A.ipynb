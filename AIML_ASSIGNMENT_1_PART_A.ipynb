{
  "cells": [
    {
      "cell_type": "markdown",
      "metadata": {
        "id": "5TrQr1Rjx1zj"
      },
      "source": [
        "# **Python List Manipulation  Task**"
      ]
    },
    {
      "cell_type": "code",
      "execution_count": 9,
      "metadata": {
        "id": "2DzAR8GIyueh"
      },
      "outputs": [
        {
          "name": "stdout",
          "output_type": "stream",
          "text": [
            "Original list: [3, 1, 5, 1, 3, 8]\n",
            "Unique Elements in the list: [8, 1, 3, 5]\n",
            "List after removing duplicates: [8, 1, 3, 5]\n",
            "Reversed list: [5, 3, 1, 8]\n",
            "Sorted list: [1, 3, 5, 8]\n",
            "Unique elements: [8, 1, 3, 5]\n",
            "List after removing 5: [1, 3, 8]\n"
          ]
        }
      ],
      "source": [
        "class ListManipulator:\n",
        "    def __init__(self):\n",
        "        self._list = []  # Internal list for storing elements\n",
        "\n",
        "    def add_elements(self, elements):\n",
        "        \"\"\"Adds a list of elements to the internal list.\"\"\"\n",
        "        self._list.extend(elements)\n",
        "\n",
        "    def remove_duplicates(self):\n",
        "        \"\"\"Removes duplicate elements from the internal list.\"\"\"\n",
        "        self._list = list(set(self._list))\n",
        "\n",
        "    def reverse_list(self):\n",
        "        \"\"\"Reverses the order of elements in the internal list.\"\"\"\n",
        "        self._list.reverse()\n",
        "\n",
        "    def sort_list(self):\n",
        "        \"\"\"Sorts the elements in the internal list in ascending order.\"\"\"\n",
        "        self._list.sort()\n",
        "\n",
        "    def get_unique_elements(self):\n",
        "        \"\"\"Returns a new list containing only the unique elements.\"\"\"\n",
        "        return list(set(self._list))\n",
        "\n",
        "    def remove_element(self, element):\n",
        "        \"\"\"Removes the first occurrence of an element from the internal list.\"\"\"\n",
        "        if element in self._list:\n",
        "            self._list.remove(element)\n",
        "\n",
        "    def get_list(self):\n",
        "        \"\"\"Returns the current state of the internal list.\"\"\"\n",
        "        return self._list\n",
        "\n",
        "# Example Usage\n",
        "manipulator = ListManipulator()\n",
        "manipulator.add_elements([3, 1, 5, 1, 3, 8])\n",
        "\n",
        "print(\"Original list:\", manipulator.get_list())\n",
        "print(\"Unique Elements in the list:\", manipulator.get_unique_elements())\n",
        "manipulator.remove_duplicates()\n",
        "print(\"List after removing duplicates:\", manipulator.get_list())\n",
        "manipulator.reverse_list()\n",
        "print(\"Reversed list:\", manipulator.get_list())\n",
        "manipulator.sort_list()\n",
        "print(\"Sorted list:\", manipulator.get_list())\n",
        "print(\"Unique elements:\", manipulator.get_unique_elements())\n",
        "manipulator.remove_element(5)\n",
        "print(\"List after removing 5:\", manipulator.get_list())"
      ]
    }
  ],
  "metadata": {
    "colab": {
      "provenance": [],
      "toc_visible": true
    },
    "kernelspec": {
      "display_name": "Python 3",
      "name": "python3"
    },
    "language_info": {
      "codemirror_mode": {
        "name": "ipython",
        "version": 3
      },
      "file_extension": ".py",
      "mimetype": "text/x-python",
      "name": "python",
      "nbconvert_exporter": "python",
      "pygments_lexer": "ipython3",
      "version": "3.11.3"
    }
  },
  "nbformat": 4,
  "nbformat_minor": 0
}
